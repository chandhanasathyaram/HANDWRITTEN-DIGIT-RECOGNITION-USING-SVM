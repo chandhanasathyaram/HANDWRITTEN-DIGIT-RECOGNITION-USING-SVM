{
 "cells": [
  {
   "cell_type": "markdown",
   "id": "e48ef6ad",
   "metadata": {
    "papermill": {
     "duration": 0.014219,
     "end_time": "2023-06-21T19:36:21.046902",
     "exception": false,
     "start_time": "2023-06-21T19:36:21.032683",
     "status": "completed"
    },
    "tags": []
   },
   "source": [
    "# In this ML Analysis, we will be using Support Vector Machine Supervised Algorithm to recognize hand written digits from built-in dataset.\n",
    "# We will use scikit-learn package."
   ]
  },
  {
   "cell_type": "markdown",
   "id": "51b4b1b4",
   "metadata": {
    "papermill": {
     "duration": 0.011445,
     "end_time": "2023-06-21T19:36:21.070215",
     "exception": false,
     "start_time": "2023-06-21T19:36:21.058770",
     "status": "completed"
    },
    "tags": []
   },
   "source": [
    "## Importing Support Vector Machine (SVM) from scikit-learn "
   ]
  },
  {
   "cell_type": "code",
   "execution_count": 1,
   "id": "7ed33ba3",
   "metadata": {
    "execution": {
     "iopub.execute_input": "2023-06-21T19:36:21.096669Z",
     "iopub.status.busy": "2023-06-21T19:36:21.095578Z",
     "iopub.status.idle": "2023-06-21T19:36:22.359061Z",
     "shell.execute_reply": "2023-06-21T19:36:22.358142Z"
    },
    "papermill": {
     "duration": 1.279637,
     "end_time": "2023-06-21T19:36:22.361793",
     "exception": false,
     "start_time": "2023-06-21T19:36:21.082156",
     "status": "completed"
    },
    "tags": []
   },
   "outputs": [],
   "source": [
    "from sklearn import svm \n",
    "from sklearn.metrics import accuracy_score\n",
    "svc = svm.SVC(gamma=0.00001,C=100.)"
   ]
  },
  {
   "cell_type": "markdown",
   "id": "43b9b050",
   "metadata": {
    "papermill": {
     "duration": 0.01138,
     "end_time": "2023-06-21T19:36:22.385070",
     "exception": false,
     "start_time": "2023-06-21T19:36:22.373690",
     "status": "completed"
    },
    "tags": []
   },
   "source": [
    "## Loading the digits dataset from scikit-learn"
   ]
  },
  {
   "cell_type": "code",
   "execution_count": 2,
   "id": "9ea5e98d",
   "metadata": {
    "execution": {
     "iopub.execute_input": "2023-06-21T19:36:22.410833Z",
     "iopub.status.busy": "2023-06-21T19:36:22.410445Z",
     "iopub.status.idle": "2023-06-21T19:36:22.524342Z",
     "shell.execute_reply": "2023-06-21T19:36:22.523416Z"
    },
    "papermill": {
     "duration": 0.129908,
     "end_time": "2023-06-21T19:36:22.526975",
     "exception": false,
     "start_time": "2023-06-21T19:36:22.397067",
     "status": "completed"
    },
    "tags": []
   },
   "outputs": [],
   "source": [
    "from sklearn import datasets \n",
    "digits = datasets.load_digits()"
   ]
  },
  {
   "cell_type": "markdown",
   "id": "730eb4d6",
   "metadata": {
    "papermill": {
     "duration": 0.011784,
     "end_time": "2023-06-21T19:36:22.550779",
     "exception": false,
     "start_time": "2023-06-21T19:36:22.538995",
     "status": "completed"
    },
    "tags": []
   },
   "source": [
    "## Description of the digits dataset"
   ]
  },
  {
   "cell_type": "code",
   "execution_count": 3,
   "id": "3d6664f3",
   "metadata": {
    "execution": {
     "iopub.execute_input": "2023-06-21T19:36:22.576265Z",
     "iopub.status.busy": "2023-06-21T19:36:22.575898Z",
     "iopub.status.idle": "2023-06-21T19:36:22.581576Z",
     "shell.execute_reply": "2023-06-21T19:36:22.580540Z"
    },
    "papermill": {
     "duration": 0.021966,
     "end_time": "2023-06-21T19:36:22.584602",
     "exception": false,
     "start_time": "2023-06-21T19:36:22.562636",
     "status": "completed"
    },
    "tags": []
   },
   "outputs": [
    {
     "name": "stdout",
     "output_type": "stream",
     "text": [
      ".. _digits_dataset:\n",
      "\n",
      "Optical recognition of handwritten digits dataset\n",
      "--------------------------------------------------\n",
      "\n",
      "**Data Set Characteristics:**\n",
      "\n",
      "    :Number of Instances: 1797\n",
      "    :Number of Attributes: 64\n",
      "    :Attribute Information: 8x8 image of integer pixels in the range 0..16.\n",
      "    :Missing Attribute Values: None\n",
      "    :Creator: E. Alpaydin (alpaydin '@' boun.edu.tr)\n",
      "    :Date: July; 1998\n",
      "\n",
      "This is a copy of the test set of the UCI ML hand-written digits datasets\n",
      "https://archive.ics.uci.edu/ml/datasets/Optical+Recognition+of+Handwritten+Digits\n",
      "\n",
      "The data set contains images of hand-written digits: 10 classes where\n",
      "each class refers to a digit.\n",
      "\n",
      "Preprocessing programs made available by NIST were used to extract\n",
      "normalized bitmaps of handwritten digits from a preprinted form. From a\n",
      "total of 43 people, 30 contributed to the training set and different 13\n",
      "to the test set. 32x32 bitmaps are divided into nonoverlapping blocks of\n",
      "4x4 and the number of on pixels are counted in each block. This generates\n",
      "an input matrix of 8x8 where each element is an integer in the range\n",
      "0..16. This reduces dimensionality and gives invariance to small\n",
      "distortions.\n",
      "\n",
      "For info on NIST preprocessing routines, see M. D. Garris, J. L. Blue, G.\n",
      "T. Candela, D. L. Dimmick, J. Geist, P. J. Grother, S. A. Janet, and C.\n",
      "L. Wilson, NIST Form-Based Handprint Recognition System, NISTIR 5469,\n",
      "1994.\n",
      "\n",
      ".. topic:: References\n",
      "\n",
      "  - C. Kaynak (1995) Methods of Combining Multiple Classifiers and Their\n",
      "    Applications to Handwritten Digit Recognition, MSc Thesis, Institute of\n",
      "    Graduate Studies in Science and Engineering, Bogazici University.\n",
      "  - E. Alpaydin, C. Kaynak (1998) Cascading Classifiers, Kybernetika.\n",
      "  - Ken Tang and Ponnuthurai N. Suganthan and Xi Yao and A. Kai Qin.\n",
      "    Linear dimensionalityreduction using relevance weighted LDA. School of\n",
      "    Electrical and Electronic Engineering Nanyang Technological University.\n",
      "    2005.\n",
      "  - Claudio Gentile. A New Approximate Maximal Margin Classification\n",
      "    Algorithm. NIPS. 2000.\n",
      "\n"
     ]
    }
   ],
   "source": [
    "print (digits.DESCR)"
   ]
  },
  {
   "cell_type": "markdown",
   "id": "b357dd7e",
   "metadata": {
    "papermill": {
     "duration": 0.011736,
     "end_time": "2023-06-21T19:36:22.608204",
     "exception": false,
     "start_time": "2023-06-21T19:36:22.596468",
     "status": "completed"
    },
    "tags": []
   },
   "source": [
    "## Loading image for digit 7 for manipulation"
   ]
  },
  {
   "cell_type": "code",
   "execution_count": 4,
   "id": "4b0340b5",
   "metadata": {
    "execution": {
     "iopub.execute_input": "2023-06-21T19:36:22.634001Z",
     "iopub.status.busy": "2023-06-21T19:36:22.633399Z",
     "iopub.status.idle": "2023-06-21T19:36:22.643151Z",
     "shell.execute_reply": "2023-06-21T19:36:22.642226Z"
    },
    "papermill": {
     "duration": 0.025155,
     "end_time": "2023-06-21T19:36:22.645251",
     "exception": false,
     "start_time": "2023-06-21T19:36:22.620096",
     "status": "completed"
    },
    "tags": []
   },
   "outputs": [
    {
     "data": {
      "text/plain": [
       "array([[ 0.,  0.,  7.,  8., 13., 16., 15.,  1.],\n",
       "       [ 0.,  0.,  7.,  7.,  4., 11., 12.,  0.],\n",
       "       [ 0.,  0.,  0.,  0.,  8., 13.,  1.,  0.],\n",
       "       [ 0.,  4.,  8.,  8., 15., 15.,  6.,  0.],\n",
       "       [ 0.,  2., 11., 15., 15.,  4.,  0.,  0.],\n",
       "       [ 0.,  0.,  0., 16.,  5.,  0.,  0.,  0.],\n",
       "       [ 0.,  0.,  9., 15.,  1.,  0.,  0.,  0.],\n",
       "       [ 0.,  0., 13.,  5.,  0.,  0.,  0.,  0.]])"
      ]
     },
     "execution_count": 4,
     "metadata": {},
     "output_type": "execute_result"
    }
   ],
   "source": [
    "digits.images[7]"
   ]
  },
  {
   "cell_type": "markdown",
   "id": "7f6ef7b4",
   "metadata": {
    "papermill": {
     "duration": 0.011851,
     "end_time": "2023-06-21T19:36:22.669272",
     "exception": false,
     "start_time": "2023-06-21T19:36:22.657421",
     "status": "completed"
    },
    "tags": []
   },
   "source": [
    "## Visualizing this image for digit 7 using matplotlib\n",
    "## imshow Display data as an image, i.e., on a 2D regular raster."
   ]
  },
  {
   "cell_type": "code",
   "execution_count": 5,
   "id": "5e45c304",
   "metadata": {
    "execution": {
     "iopub.execute_input": "2023-06-21T19:36:22.695382Z",
     "iopub.status.busy": "2023-06-21T19:36:22.694995Z",
     "iopub.status.idle": "2023-06-21T19:36:22.985896Z",
     "shell.execute_reply": "2023-06-21T19:36:22.984873Z"
    },
    "papermill": {
     "duration": 0.306865,
     "end_time": "2023-06-21T19:36:22.988264",
     "exception": false,
     "start_time": "2023-06-21T19:36:22.681399",
     "status": "completed"
    },
    "scrolled": true,
    "tags": []
   },
   "outputs": [
    {
     "data": {
      "image/png": "[encoded data removed]",
      "text/plain": [
       "<Figure size 640x480 with 1 Axes>"
      ]
     },
     "metadata": {},
     "output_type": "display_data"
    }
   ],
   "source": [
    "import matplotlib.pyplot as plt \n",
    "plt.imshow(digits.images[7],cmap=plt.cm.gray_r,interpolation='nearest')\n",
    "plt.show()"
   ]
  },
  {
   "cell_type": "markdown",
   "id": "0e1e33dc",
   "metadata": {
    "papermill": {
     "duration": 0.011998,
     "end_time": "2023-06-21T19:36:23.012612",
     "exception": false,
     "start_time": "2023-06-21T19:36:23.000614",
     "status": "completed"
    },
    "tags": []
   },
   "source": [
    "## The numerical values represented by images, i.e., the targets, are contained in the digit.target array"
   ]
  },
  {
   "cell_type": "code",
   "execution_count": 6,
   "id": "51ba1c47",
   "metadata": {
    "execution": {
     "iopub.execute_input": "2023-06-21T19:36:23.039151Z",
     "iopub.status.busy": "2023-06-21T19:36:23.038729Z",
     "iopub.status.idle": "2023-06-21T19:36:23.045452Z",
     "shell.execute_reply": "2023-06-21T19:36:23.044381Z"
    },
    "papermill": {
     "duration": 0.022659,
     "end_time": "2023-06-21T19:36:23.047530",
     "exception": false,
     "start_time": "2023-06-21T19:36:23.024871",
     "status": "completed"
    },
    "scrolled": true,
    "tags": []
   },
   "outputs": [
    {
     "data": {
      "text/plain": [
       "array([0, 1, 2, ..., 8, 9, 8])"
      ]
     },
     "execution_count": 6,
     "metadata": {},
     "output_type": "execute_result"
    }
   ],
   "source": [
    "digits.target"
   ]
  },
  {
   "cell_type": "markdown",
   "id": "54c77ae2",
   "metadata": {
    "papermill": {
     "duration": 0.01248,
     "end_time": "2023-06-21T19:36:23.072462",
     "exception": false,
     "start_time": "2023-06-21T19:36:23.059982",
     "status": "completed"
    },
    "tags": []
   },
   "source": [
    "## The size of the dataset consists of 1797 images. We can also see the total number of columns in the dataset"
   ]
  },
  {
   "cell_type": "code",
   "execution_count": 7,
   "id": "e39b6dc1",
   "metadata": {
    "execution": {
     "iopub.execute_input": "2023-06-21T19:36:23.099022Z",
     "iopub.status.busy": "2023-06-21T19:36:23.098600Z",
     "iopub.status.idle": "2023-06-21T19:36:23.103889Z",
     "shell.execute_reply": "2023-06-21T19:36:23.102884Z"
    },
    "papermill": {
     "duration": 0.021641,
     "end_time": "2023-06-21T19:36:23.106522",
     "exception": false,
     "start_time": "2023-06-21T19:36:23.084881",
     "status": "completed"
    },
    "tags": []
   },
   "outputs": [
    {
     "name": "stdout",
     "output_type": "stream",
     "text": [
      "(1797, 64)\n"
     ]
    }
   ],
   "source": [
    "print(digits.data.shape)"
   ]
  },
  {
   "cell_type": "code",
   "execution_count": 8,
   "id": "a25d5ccf",
   "metadata": {
    "execution": {
     "iopub.execute_input": "2023-06-21T19:36:23.133437Z",
     "iopub.status.busy": "2023-06-21T19:36:23.133054Z",
     "iopub.status.idle": "2023-06-21T19:36:23.139592Z",
     "shell.execute_reply": "2023-06-21T19:36:23.138654Z"
    },
    "papermill": {
     "duration": 0.022456,
     "end_time": "2023-06-21T19:36:23.141606",
     "exception": false,
     "start_time": "2023-06-21T19:36:23.119150",
     "status": "completed"
    },
    "tags": []
   },
   "outputs": [
    {
     "data": {
      "text/plain": [
       "1797"
      ]
     },
     "execution_count": 8,
     "metadata": {},
     "output_type": "execute_result"
    }
   ],
   "source": [
    "digits.target.size"
   ]
  },
  {
   "cell_type": "markdown",
   "id": "6bd14e08",
   "metadata": {
    "papermill": {
     "duration": 0.01237,
     "end_time": "2023-06-21T19:36:23.166507",
     "exception": false,
     "start_time": "2023-06-21T19:36:23.154137",
     "status": "completed"
    },
    "tags": []
   },
   "source": [
    "### We will use the first 1791 digits for training our machine\n",
    "\n",
    "### We will use the last 6 digits for testing i.e. as validation set, so below is a visualization of this set."
   ]
  },
  {
   "cell_type": "markdown",
   "id": "1da9af03",
   "metadata": {
    "papermill": {
     "duration": 0.012608,
     "end_time": "2023-06-21T19:36:23.191861",
     "exception": false,
     "start_time": "2023-06-21T19:36:23.179253",
     "status": "completed"
    },
    "tags": []
   },
   "source": [
    "### Our values for testing are: [4, 9, 0, 8, 9, 8]"
   ]
  },
  {
   "cell_type": "code",
   "execution_count": 9,
   "id": "7938c942",
   "metadata": {
    "execution": {
     "iopub.execute_input": "2023-06-21T19:36:23.218525Z",
     "iopub.status.busy": "2023-06-21T19:36:23.218163Z",
     "iopub.status.idle": "2023-06-21T19:36:23.907882Z",
     "shell.execute_reply": "2023-06-21T19:36:23.906827Z"
    },
    "papermill": {
     "duration": 0.706151,
     "end_time": "2023-06-21T19:36:23.910535",
     "exception": false,
     "start_time": "2023-06-21T19:36:23.204384",
     "status": "completed"
    },
    "tags": []
   },
   "outputs": [
    {
     "data": {
      "image/png": "[encoded data removed]",
      "text/plain": [
       "<Figure size 640x480 with 6 Axes>"
      ]
     },
     "metadata": {},
     "output_type": "display_data"
    }
   ],
   "source": [
    "import matplotlib.pyplot as plt\n",
    "\n",
    "plt.subplot(321)\n",
    "plt.imshow(digits.images[1791], cmap=plt.cm.gray_r,\n",
    "interpolation='nearest')\n",
    "plt.subplot(322)\n",
    "plt.imshow(digits.images[1792], cmap=plt.cm.gray_r,\n",
    "interpolation='nearest')\n",
    "plt.subplot(323)\n",
    "plt.imshow(digits.images[1793], cmap=plt.cm.gray_r,\n",
    "interpolation='nearest')\n",
    "plt.subplot(324)\n",
    "plt.imshow(digits.images[1794], cmap=plt.cm.gray_r,\n",
    "interpolation='nearest')\n",
    "plt.subplot(325)\n",
    "plt.imshow(digits.images[1795], cmap=plt.cm.gray_r,\n",
    "interpolation='nearest')\n",
    "plt.subplot(326)\n",
    "plt.imshow(digits.images[1796], cmap=plt.cm.gray_r,\n",
    "interpolation='nearest')\n",
    "plt.show()"
   ]
  },
  {
   "cell_type": "markdown",
   "id": "a9e718c2",
   "metadata": {
    "papermill": {
     "duration": 0.012649,
     "end_time": "2023-06-21T19:36:23.936160",
     "exception": false,
     "start_time": "2023-06-21T19:36:23.923511",
     "status": "completed"
    },
    "tags": []
   },
   "source": [
    "## Now we are training our data on initial model"
   ]
  },
  {
   "cell_type": "code",
   "execution_count": 10,
   "id": "0e03376a",
   "metadata": {
    "execution": {
     "iopub.execute_input": "2023-06-21T19:36:23.964066Z",
     "iopub.status.busy": "2023-06-21T19:36:23.963662Z",
     "iopub.status.idle": "2023-06-21T19:36:23.968632Z",
     "shell.execute_reply": "2023-06-21T19:36:23.967520Z"
    },
    "papermill": {
     "duration": 0.021692,
     "end_time": "2023-06-21T19:36:23.970871",
     "exception": false,
     "start_time": "2023-06-21T19:36:23.949179",
     "status": "completed"
    },
    "tags": []
   },
   "outputs": [],
   "source": [
    "main_data=digits['data']\n",
    "targets=digits['target']"
   ]
  },
  {
   "cell_type": "markdown",
   "id": "919d014f",
   "metadata": {
    "papermill": {
     "duration": 0.012601,
     "end_time": "2023-06-21T19:36:23.996388",
     "exception": false,
     "start_time": "2023-06-21T19:36:23.983787",
     "status": "completed"
    },
    "tags": []
   },
   "source": [
    "## Case 1: 1791 Training set, and 6 Test values"
   ]
  },
  {
   "cell_type": "markdown",
   "id": "6900c7b1",
   "metadata": {
    "papermill": {
     "duration": 0.013148,
     "end_time": "2023-06-21T19:36:24.022503",
     "exception": false,
     "start_time": "2023-06-21T19:36:24.009355",
     "status": "completed"
    },
    "tags": []
   },
   "source": [
    "## Simple training of data"
   ]
  },
  {
   "cell_type": "code",
   "execution_count": 11,
   "id": "bb7f4dec",
   "metadata": {
    "execution": {
     "iopub.execute_input": "2023-06-21T19:36:24.050338Z",
     "iopub.status.busy": "2023-06-21T19:36:24.049971Z",
     "iopub.status.idle": "2023-06-21T19:36:24.100957Z",
     "shell.execute_reply": "2023-06-21T19:36:24.099811Z"
    },
    "papermill": {
     "duration": 0.068081,
     "end_time": "2023-06-21T19:36:24.103552",
     "exception": false,
     "start_time": "2023-06-21T19:36:24.035471",
     "status": "completed"
    },
    "tags": []
   },
   "outputs": [],
   "source": [
    "svc.fit(digits.data[1:1791],digits.target[1:1791])\n",
    "prediction = svc.predict(main_data[1791:])"
   ]
  },
  {
   "cell_type": "markdown",
   "id": "ad1fda9d",
   "metadata": {
    "papermill": {
     "duration": 0.012834,
     "end_time": "2023-06-21T19:36:24.129614",
     "exception": false,
     "start_time": "2023-06-21T19:36:24.116780",
     "status": "completed"
    },
    "tags": []
   },
   "source": [
    "## As we can see, all 6 values from above were predicted correctly"
   ]
  },
  {
   "cell_type": "code",
   "execution_count": 12,
   "id": "29355760",
   "metadata": {
    "execution": {
     "iopub.execute_input": "2023-06-21T19:36:24.157598Z",
     "iopub.status.busy": "2023-06-21T19:36:24.157155Z",
     "iopub.status.idle": "2023-06-21T19:36:24.164945Z",
     "shell.execute_reply": "2023-06-21T19:36:24.163988Z"
    },
    "papermill": {
     "duration": 0.024722,
     "end_time": "2023-06-21T19:36:24.167507",
     "exception": false,
     "start_time": "2023-06-21T19:36:24.142785",
     "status": "completed"
    },
    "tags": []
   },
   "outputs": [
    {
     "name": "stdout",
     "output_type": "stream",
     "text": [
      "Predicted values:  [4 9 0 8 9 8]\n",
      "Actual values:  [4 9 0 8 9 8]\n",
      "Accuracy is:  100.0 %\n"
     ]
    }
   ],
   "source": [
    "print(\"Predicted values: \", prediction)\n",
    "print(\"Actual values: \", targets[1791:])\n",
    "ac_1 = accuracy_score(targets[1791:] , prediction)*100\n",
    "print(\"Accuracy is: \",ac_1,\"%\")"
   ]
  },
  {
   "cell_type": "markdown",
   "id": "1c3f069a",
   "metadata": {
    "papermill": {
     "duration": 0.01272,
     "end_time": "2023-06-21T19:36:24.193284",
     "exception": false,
     "start_time": "2023-06-21T19:36:24.180564",
     "status": "completed"
    },
    "tags": []
   },
   "source": [
    "### Our accuracy for 1791:6 division is 100%"
   ]
  },
  {
   "cell_type": "markdown",
   "id": "a1af54bc",
   "metadata": {
    "papermill": {
     "duration": 0.01253,
     "end_time": "2023-06-21T19:36:24.218876",
     "exception": false,
     "start_time": "2023-06-21T19:36:24.206346",
     "status": "completed"
    },
    "tags": []
   },
   "source": [
    "## Modified training of data"
   ]
  },
  {
   "cell_type": "code",
   "execution_count": 13,
   "id": "4a34a41c",
   "metadata": {
    "execution": {
     "iopub.execute_input": "2023-06-21T19:36:24.245928Z",
     "iopub.status.busy": "2023-06-21T19:36:24.245541Z",
     "iopub.status.idle": "2023-06-21T19:36:24.348784Z",
     "shell.execute_reply": "2023-06-21T19:36:24.347869Z"
    },
    "papermill": {
     "duration": 0.119485,
     "end_time": "2023-06-21T19:36:24.350989",
     "exception": false,
     "start_time": "2023-06-21T19:36:24.231504",
     "status": "completed"
    },
    "tags": []
   },
   "outputs": [
    {
     "data": {
      "text/html": [
       "<style>#sk-container-id-1 {color: black;background-color: white;}#sk-container-id-1 pre{padding: 0;}#sk-container-id-1 div.sk-toggleable {background-color: white;}#sk-container-id-1 label.sk-toggleable__label {cursor: pointer;display: block;width: 100%;margin-bottom: 0;padding: 0.3em;box-sizing: border-box;text-align: center;}#sk-container-id-1 label.sk-toggleable__label-arrow:before {content: \"▸\";float: left;margin-right: 0.25em;color: #696969;}#sk-container-id-1 label.sk-toggleable__label-arrow:hover:before {color: black;}#sk-container-id-1 div.sk-estimator:hover label.sk-toggleable__label-arrow:before {color: black;}#sk-container-id-1 div.sk-toggleable__content {max-height: 0;max-width: 0;overflow: hidden;text-align: left;background-color: #f0f8ff;}#sk-container-id-1 div.sk-toggleable__content pre {margin: 0.2em;color: black;border-radius: 0.25em;background-color: #f0f8ff;}#sk-container-id-1 input.sk-toggleable__control:checked~div.sk-toggleable__content {max-height: 200px;max-width: 100%;overflow: auto;}#sk-container-id-1 input.sk-toggleable__control:checked~label.sk-toggleable__label-arrow:before {content: \"▾\";}#sk-container-id-1 div.sk-estimator input.sk-toggleable__control:checked~label.sk-toggleable__label {background-color: #d4ebff;}#sk-container-id-1 div.sk-label input.sk-toggleable__control:checked~label.sk-toggleable__label {background-color: #d4ebff;}#sk-container-id-1 input.sk-hidden--visually {border: 0;clip: rect(1px 1px 1px 1px);clip: rect(1px, 1px, 1px, 1px);height: 1px;margin: -1px;overflow: hidden;padding: 0;position: absolute;width: 1px;}#sk-container-id-1 div.sk-estimator {font-family: monospace;background-color: #f0f8ff;border: 1px dotted black;border-radius: 0.25em;box-sizing: border-box;margin-bottom: 0.5em;}#sk-container-id-1 div.sk-estimator:hover {background-color: #d4ebff;}#sk-container-id-1 div.sk-parallel-item::after {content: \"\";width: 100%;border-bottom: 1px solid gray;flex-grow: 1;}#sk-container-id-1 div.sk-label:hover label.sk-toggleable__label {background-color: #d4ebff;}#sk-container-id-1 div.sk-serial::before {content: \"\";position: absolute;border-left: 1px solid gray;box-sizing: border-box;top: 0;bottom: 0;left: 50%;z-index: 0;}#sk-container-id-1 div.sk-serial {display: flex;flex-direction: column;align-items: center;background-color: white;padding-right: 0.2em;padding-left: 0.2em;position: relative;}#sk-container-id-1 div.sk-item {position: relative;z-index: 1;}#sk-container-id-1 div.sk-parallel {display: flex;align-items: stretch;justify-content: center;background-color: white;position: relative;}#sk-container-id-1 div.sk-item::before, #sk-container-id-1 div.sk-parallel-item::before {content: \"\";position: absolute;border-left: 1px solid gray;box-sizing: border-box;top: 0;bottom: 0;left: 50%;z-index: -1;}#sk-container-id-1 div.sk-parallel-item {display: flex;flex-direction: column;z-index: 1;position: relative;background-color: white;}#sk-container-id-1 div.sk-parallel-item:first-child::after {align-self: flex-end;width: 50%;}#sk-container-id-1 div.sk-parallel-item:last-child::after {align-self: flex-start;width: 50%;}#sk-container-id-1 div.sk-parallel-item:only-child::after {width: 0;}#sk-container-id-1 div.sk-dashed-wrapped {border: 1px dashed gray;margin: 0 0.4em 0.5em 0.4em;box-sizing: border-box;padding-bottom: 0.4em;background-color: white;}#sk-container-id-1 div.sk-label label {font-family: monospace;font-weight: bold;display: inline-block;line-height: 1.2em;}#sk-container-id-1 div.sk-label-container {text-align: center;}#sk-container-id-1 div.sk-container {/* jupyter's `normalize.less` sets `[hidden] { display: none; }` but bootstrap.min.css set `[hidden] { display: none !important; }` so we also need the `!important` here to be able to override the default hidden behavior on the sphinx rendered scikit-learn.org. See: https://github.com/scikit-learn/scikit-learn/issues/21755 */display: inline-block !important;position: relative;}#sk-container-id-1 div.sk-text-repr-fallback {display: none;}</style><div id=\"sk-container-id-1\" class=\"sk-top-container\"><div class=\"sk-text-repr-fallback\"><pre>SVC(C=100.0, gamma=0.001)</pre><b>In a Jupyter environment, please rerun this cell to show the HTML representation or trust the notebook. <br />On GitHub, the HTML representation is unable to render, please try loading this page with nbviewer.org.</b></div><div class=\"sk-container\" hidden><div class=\"sk-item\"><div class=\"sk-estimator sk-toggleable\"><input class=\"sk-toggleable__control sk-hidden--visually\" id=\"sk-estimator-id-1\" type=\"checkbox\" checked><label for=\"sk-estimator-id-1\" class=\"sk-toggleable__label sk-toggleable__label-arrow\">SVC</label><div class=\"sk-toggleable__content\"><pre>SVC(C=100.0, gamma=0.001)</pre></div></div></div></div></div>"
      ],
      "text/plain": [
       "SVC(C=100.0, gamma=0.001)"
      ]
     },
     "execution_count": 13,
     "metadata": {},
     "output_type": "execute_result"
    }
   ],
   "source": [
    "from sklearn.svm import SVC\n",
    "svc = SVC()\n",
    "SVC(C=100., cache_size=200,class_weight=None, coef0=0.0,degree=3,\n",
    "   gamma=0.001, kernel='rbf',max_iter=-1,probability=False,\n",
    "   random_state=None, shrinking=True, tol=0.001, verbose=False)\n",
    "svc = svm.SVC(gamma=0.001 , C=100.)\n",
    "svc.fit(main_data[:1791], targets[:1791])"
   ]
  },
  {
   "cell_type": "code",
   "execution_count": 14,
   "id": "d4d54c21",
   "metadata": {
    "execution": {
     "iopub.execute_input": "2023-06-21T19:36:24.379698Z",
     "iopub.status.busy": "2023-06-21T19:36:24.379337Z",
     "iopub.status.idle": "2023-06-21T19:36:24.386569Z",
     "shell.execute_reply": "2023-06-21T19:36:24.385594Z"
    },
    "papermill": {
     "duration": 0.024719,
     "end_time": "2023-06-21T19:36:24.389453",
     "exception": false,
     "start_time": "2023-06-21T19:36:24.364734",
     "status": "completed"
    },
    "tags": []
   },
   "outputs": [
    {
     "name": "stdout",
     "output_type": "stream",
     "text": [
      "Predicted values:  [4 9 0 8 9 8]\n",
      "Actual values:  [4 9 0 8 9 8]\n",
      "Accuracy is:  100.0 %\n"
     ]
    }
   ],
   "source": [
    "print(\"Predicted values: \", prediction)\n",
    "print(\"Actual values: \", targets[1791:])\n",
    "print(\"Accuracy is: \",(accuracy_score(targets[1791:] , prediction)*100),\"%\")"
   ]
  },
  {
   "cell_type": "markdown",
   "id": "3e37aebf",
   "metadata": {
    "papermill": {
     "duration": 0.013138,
     "end_time": "2023-06-21T19:36:24.416286",
     "exception": false,
     "start_time": "2023-06-21T19:36:24.403148",
     "status": "completed"
    },
    "tags": []
   },
   "source": [
    "### Our accuracy for modified training is also 100%"
   ]
  },
  {
   "cell_type": "markdown",
   "id": "18390aa7",
   "metadata": {
    "papermill": {
     "duration": 0.013348,
     "end_time": "2023-06-21T19:36:24.443423",
     "exception": false,
     "start_time": "2023-06-21T19:36:24.430075",
     "status": "completed"
    },
    "tags": []
   },
   "source": [
    "## Case 2: 75% values for training (1348), and 25% values for testing (449)"
   ]
  },
  {
   "cell_type": "markdown",
   "id": "b516b776",
   "metadata": {
    "papermill": {
     "duration": 0.013177,
     "end_time": "2023-06-21T19:36:24.470244",
     "exception": false,
     "start_time": "2023-06-21T19:36:24.457067",
     "status": "completed"
    },
    "tags": []
   },
   "source": [
    "## Training of data"
   ]
  },
  {
   "cell_type": "code",
   "execution_count": 15,
   "id": "18db4513",
   "metadata": {
    "execution": {
     "iopub.execute_input": "2023-06-21T19:36:24.498474Z",
     "iopub.status.busy": "2023-06-21T19:36:24.498085Z",
     "iopub.status.idle": "2023-06-21T19:36:24.597095Z",
     "shell.execute_reply": "2023-06-21T19:36:24.595436Z"
    },
    "papermill": {
     "duration": 0.116101,
     "end_time": "2023-06-21T19:36:24.599600",
     "exception": false,
     "start_time": "2023-06-21T19:36:24.483499",
     "status": "completed"
    },
    "tags": []
   },
   "outputs": [
    {
     "name": "stdout",
     "output_type": "stream",
     "text": [
      "Accuracy is:  96.88888888888889 %\n"
     ]
    }
   ],
   "source": [
    "svc.fit(main_data[:1347], targets[:1347])\n",
    "prediction = svc.predict(main_data[1347:])\n",
    "ac_2 = accuracy_score(targets[1347:] , prediction)*100\n",
    "print(\"Accuracy is: \", ac_2,\"%\")"
   ]
  },
  {
   "cell_type": "markdown",
   "id": "f4f63d48",
   "metadata": {
    "papermill": {
     "duration": 0.013265,
     "end_time": "2023-06-21T19:36:24.626621",
     "exception": false,
     "start_time": "2023-06-21T19:36:24.613356",
     "status": "completed"
    },
    "tags": []
   },
   "source": [
    "### The accuracy for 75:25 division is 96.88 %"
   ]
  },
  {
   "cell_type": "markdown",
   "id": "b0bf3fcf",
   "metadata": {
    "papermill": {
     "duration": 0.013218,
     "end_time": "2023-06-21T19:36:24.653252",
     "exception": false,
     "start_time": "2023-06-21T19:36:24.640034",
     "status": "completed"
    },
    "tags": []
   },
   "source": [
    "## Case 3: 50% values for training (899), and 50% values for testing (898)"
   ]
  },
  {
   "cell_type": "markdown",
   "id": "caef23f1",
   "metadata": {
    "papermill": {
     "duration": 0.013453,
     "end_time": "2023-06-21T19:36:24.680167",
     "exception": false,
     "start_time": "2023-06-21T19:36:24.666714",
     "status": "completed"
    },
    "tags": []
   },
   "source": [
    "# Training of data"
   ]
  },
  {
   "cell_type": "code",
   "execution_count": 16,
   "id": "c9779092",
   "metadata": {
    "execution": {
     "iopub.execute_input": "2023-06-21T19:36:24.708845Z",
     "iopub.status.busy": "2023-06-21T19:36:24.708459Z",
     "iopub.status.idle": "2023-06-21T19:36:24.797073Z",
     "shell.execute_reply": "2023-06-21T19:36:24.795834Z"
    },
    "papermill": {
     "duration": 0.106006,
     "end_time": "2023-06-21T19:36:24.799635",
     "exception": false,
     "start_time": "2023-06-21T19:36:24.693629",
     "status": "completed"
    },
    "tags": []
   },
   "outputs": [
    {
     "name": "stdout",
     "output_type": "stream",
     "text": [
      "Accuracy is:  96.99331848552339 %\n"
     ]
    }
   ],
   "source": [
    "svc.fit(main_data[:899], targets[:899])\n",
    "prediction = svc.predict(main_data[899:])\n",
    "ac_3 = accuracy_score(targets[899:] , prediction)*100\n",
    "print(\"Accuracy is: \", ac_3,\"%\")"
   ]
  },
  {
   "cell_type": "markdown",
   "id": "4b8083eb",
   "metadata": {
    "papermill": {
     "duration": 0.013376,
     "end_time": "2023-06-21T19:36:24.826852",
     "exception": false,
     "start_time": "2023-06-21T19:36:24.813476",
     "status": "completed"
    },
    "tags": []
   },
   "source": [
    "### The accuracy for 50:50 division is 96.99 %"
   ]
  },
  {
   "cell_type": "markdown",
   "id": "8f022995",
   "metadata": {
    "papermill": {
     "duration": 0.013274,
     "end_time": "2023-06-21T19:36:24.854357",
     "exception": false,
     "start_time": "2023-06-21T19:36:24.841083",
     "status": "completed"
    },
    "tags": []
   },
   "source": [
    "## Case 4: 20% values for training (359), and 80% values for testing (1438)"
   ]
  },
  {
   "cell_type": "markdown",
   "id": "e2765100",
   "metadata": {
    "papermill": {
     "duration": 0.013107,
     "end_time": "2023-06-21T19:36:24.880763",
     "exception": false,
     "start_time": "2023-06-21T19:36:24.867656",
     "status": "completed"
    },
    "tags": []
   },
   "source": [
    "# Training of data"
   ]
  },
  {
   "cell_type": "code",
   "execution_count": 17,
   "id": "e0953c37",
   "metadata": {
    "execution": {
     "iopub.execute_input": "2023-06-21T19:36:24.909099Z",
     "iopub.status.busy": "2023-06-21T19:36:24.908706Z",
     "iopub.status.idle": "2023-06-21T19:36:24.962132Z",
     "shell.execute_reply": "2023-06-21T19:36:24.961156Z"
    },
    "papermill": {
     "duration": 0.07026,
     "end_time": "2023-06-21T19:36:24.964403",
     "exception": false,
     "start_time": "2023-06-21T19:36:24.894143",
     "status": "completed"
    },
    "tags": []
   },
   "outputs": [
    {
     "name": "stdout",
     "output_type": "stream",
     "text": [
      "Accuracy is:  90.12517385257301 %\n"
     ]
    }
   ],
   "source": [
    "svc.fit(main_data[:359], targets[:359])\n",
    "prediction = svc.predict(main_data[359:])\n",
    "ac_4 = accuracy_score(targets[359:] , prediction)*100\n",
    "print(\"Accuracy is: \", ac_4,\"%\")"
   ]
  },
  {
   "cell_type": "markdown",
   "id": "18a919da",
   "metadata": {
    "papermill": {
     "duration": 0.013678,
     "end_time": "2023-06-21T19:36:24.991952",
     "exception": false,
     "start_time": "2023-06-21T19:36:24.978274",
     "status": "completed"
    },
    "tags": []
   },
   "source": [
    "### The accuracy for 80:20 division is 90.13 %"
   ]
  },
  {
   "cell_type": "markdown",
   "id": "527a73ad",
   "metadata": {
    "papermill": {
     "duration": 0.013808,
     "end_time": "2023-06-21T19:36:25.019618",
     "exception": false,
     "start_time": "2023-06-21T19:36:25.005810",
     "status": "completed"
    },
    "tags": []
   },
   "source": [
    "## Case 5: 5% values for training (90), and 95% values for testing (1707)"
   ]
  },
  {
   "cell_type": "code",
   "execution_count": 18,
   "id": "4b2a9039",
   "metadata": {
    "execution": {
     "iopub.execute_input": "2023-06-21T19:36:25.048964Z",
     "iopub.status.busy": "2023-06-21T19:36:25.048331Z",
     "iopub.status.idle": "2023-06-21T19:36:25.072745Z",
     "shell.execute_reply": "2023-06-21T19:36:25.071715Z"
    },
    "papermill": {
     "duration": 0.041892,
     "end_time": "2023-06-21T19:36:25.075168",
     "exception": false,
     "start_time": "2023-06-21T19:36:25.033276",
     "status": "completed"
    },
    "tags": []
   },
   "outputs": [
    {
     "name": "stdout",
     "output_type": "stream",
     "text": [
      "Accuracy is:  82.01523140011716 %\n"
     ]
    }
   ],
   "source": [
    "svc.fit(main_data[:90], targets[:90])\n",
    "prediction = svc.predict(main_data[90:])\n",
    "ac_5 = accuracy_score(targets[90:] , prediction)*100\n",
    "print(\"Accuracy is: \", ac_5,\"%\")"
   ]
  },
  {
   "cell_type": "markdown",
   "id": "d94d534c",
   "metadata": {
    "papermill": {
     "duration": 0.013508,
     "end_time": "2023-06-21T19:36:25.102687",
     "exception": false,
     "start_time": "2023-06-21T19:36:25.089179",
     "status": "completed"
    },
    "tags": []
   },
   "source": [
    "### The accuracy for 80:20 division is 82.02 %"
   ]
  },
  {
   "cell_type": "markdown",
   "id": "83ac1a00",
   "metadata": {
    "papermill": {
     "duration": 0.013352,
     "end_time": "2023-06-21T19:36:25.129877",
     "exception": false,
     "start_time": "2023-06-21T19:36:25.116525",
     "status": "completed"
    },
    "tags": []
   },
   "source": [
    "## Overall Conclusion\n",
    "\n",
    "The accuracy will be much better when more data is used for training purposes, before testing the model. \n"
   ]
  },
  {
   "cell_type": "code",
   "execution_count": 19,
   "id": "61c33da7",
   "metadata": {
    "execution": {
     "iopub.execute_input": "2023-06-21T19:36:25.159832Z",
     "iopub.status.busy": "2023-06-21T19:36:25.159127Z",
     "iopub.status.idle": "2023-06-21T19:36:25.384643Z",
     "shell.execute_reply": "2023-06-21T19:36:25.383571Z"
    },
    "papermill": {
     "duration": 0.243206,
     "end_time": "2023-06-21T19:36:25.387148",
     "exception": false,
     "start_time": "2023-06-21T19:36:25.143942",
     "status": "completed"
    },
    "tags": []
   },
   "outputs": [
    {
     "data": {
      "image/png": "[encoded data removed]",
      "text/plain": [
       "<Figure size 500x500 with 1 Axes>"
      ]
     },
     "metadata": {},
     "output_type": "display_data"
    }
   ],
   "source": [
    "from matplotlib.pyplot import figure\n",
    "\n",
    "figure(figsize=(5, 5), dpi=100)\n",
    "\n",
    "ac_list = {\"99.66%-0.33%\":ac_1,\"75%-25%\":ac_2,\"50%-50%\":ac_3,\n",
    "           \"20%-80%\":ac_4,\"5%-95%\":ac_5}\n",
    "names = list(ac_list.keys())\n",
    "values = list(ac_list.values())\n",
    "plt.bar(range(len(ac_list)), values, tick_label=names)\n",
    "plt.xticks(rotation = 45)\n",
    "plt.xlabel(\"Division of Data\")\n",
    "plt.ylabel(\"Accuracy in %\")\n",
    "plt.show()"
   ]
  }
 ],
 "metadata": {
  "kernelspec": {
   "display_name": "Python 3",
   "language": "python",
   "name": "python3"
  },
  "language_info": {
   "codemirror_mode": {
    "name": "ipython",
    "version": 3
   },
   "file_extension": ".py",
   "mimetype": "text/x-python",
   "name": "python",
   "nbconvert_exporter": "python",
   "pygments_lexer": "ipython3",
   "version": "3.10.10"
  },
  "papermill": {
   "default_parameters": {},
   "duration": 16.527845,
   "end_time": "2023-06-21T19:36:26.322788",
   "environment_variables": {},
   "exception": null,
   "input_path": "__notebook__.ipynb",
   "output_path": "__notebook__.ipynb",
   "parameters": {},
   "start_time": "2023-06-21T19:36:09.794943",
   "version": "2.4.0"
  }
 },
 "nbformat": 4,
 "nbformat_minor": 5
}
